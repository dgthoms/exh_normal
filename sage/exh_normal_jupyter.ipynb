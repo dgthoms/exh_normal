{
 "cells": [
  {
   "cell_type": "code",
   "execution_count": 27,
   "metadata": {
    "collapsed": true,
    "deletable": true,
    "editable": true
   },
   "outputs": [],
   "source": [
    "#####\n",
    "# This code block contains a naive precomputation method:\n",
    "# It inputs a generator of GF(2^n) and returns a list of\n",
    "# conjugates:\n",
    "#    conjugates <-- [ (a^i)^{2^j}, 0 <= i,j <= n-1 ]\n",
    "# and also a list of the traces of each power:\n",
    "#    traces     <-- [ Tr(a^i), 0 <= i <= n-1 ]\n",
    "\n",
    "def precompute(n,a):\n",
    "    conjugates = [ [(a**i)**(2**j) for j in range(n)] for i in range(n) ]\n",
    "    traces = [cong[0].trace() for cong in conjugates]\n",
    "    return conjugates, traces"
   ]
  },
  {
   "cell_type": "code",
   "execution_count": 13,
   "metadata": {
    "collapsed": true,
    "deletable": true,
    "editable": true
   },
   "outputs": [],
   "source": [
    "######\n",
    "# This code block contains conjugate update methods.\n",
    "# There is very little reason to use anything but update_conjugates_graycode \n",
    "# update_conjugates_naive is implemented primarily for testing purposes\n",
    "######\n",
    "\n",
    "# This takes in an element and outputs a list of conjugates by repeated squaring\n",
    "def update_conjugates_naive(conjugates, dummy_1, dummy_2): #Not the most graceful way of vargs\n",
    "    n = len(conjugates)\n",
    "    conj = []\n",
    "    conj.append(conjugates[0])\n",
    "    for i in range(1,n):\n",
    "        conj.append(conj[i-1]**2)\n",
    "    return conj\n",
    "\n",
    "def update_conjugates_graycode(current_conjugates, basic_conjugates, i):\n",
    "    n = len(current_conjugates)\n",
    "    for j in range(n): #Use the Gray code for efficient updating\n",
    "        current_conjugates[j] += basic_conjugates[i][j]\n",
    "    return current_conjugates"
   ]
  },
  {
   "cell_type": "code",
   "execution_count": 14,
   "metadata": {
    "collapsed": true,
    "deletable": true,
    "editable": true
   },
   "outputs": [],
   "source": [
    "###########\n",
    "# These are various canonical element methods. \n",
    "# Each method takes in a list of elements and returns true if\n",
    "# the first is a canonical element; e.g., the elements should\n",
    "# all be representable as bit strings, so these will return true\n",
    "# if the first element is lex_first.\n",
    "\n",
    "# The efficiency of these methods is more crucial than you might\n",
    "# expect. On a former version, in C, I found we were spending 33%\n",
    "# of our time in a lex-first checker.\n",
    "###########\n",
    "    \n",
    "# This method checks the bitstring bit-wise.\n",
    "def is_lex_first_vector_compare(k):\n",
    "    n = len(k)\n",
    "    current = k[0]._vector_()\n",
    "    for i in range(1,n):\n",
    "        next = k[i]._vector_()\n",
    "        for j in range(n):\n",
    "            if next[j] == 1 and current[j] == 0:\n",
    "                return False\n",
    "            elif next[j] == 0 and current[j] == 1:\n",
    "                break\n",
    "    return True\n",
    "\n",
    "# This method uses the built-in ``integer_representation()'' function\n",
    "# and returns true if the first element is the lex_minimal.\n",
    "def is_lex_first_int_rep(k):\n",
    "    n = len(k)\n",
    "    current = k[0].integer_representation()\n",
    "    for i in range(1,n):\n",
    "    #for i in my_order:\n",
    "        next = k[i].integer_representation()\n",
    "        if next >= current:\n",
    "            return False\n",
    "    return True\n",
    "\n",
    "# This method again uses ``integer_representation()'' but sorts the\n",
    "# resulting integer array. Parallelizable.\n",
    "def is_lex_first_int_rep_sort(k):\n",
    "    #n = len(k)\n",
    "    #int_reps = [k[i].integer_representation() for i in xrange(n)]\n",
    "    int_reps = [ kk.integer_representation() for kk in k ]\n",
    "    int_reps.sort()\n",
    "    if int_reps[0] == k[0].integer_representation():\n",
    "        return True\n",
    "    else:\n",
    "        return False\n",
    "\n",
    "# This method directly sorts the bit strings and returns true if the\n",
    "# first element is the lex_minimal element.\n",
    "def is_lex_first_sort(k):\n",
    "    current = k[0]\n",
    "    k.sort()\n",
    "    if current == k[0]:\n",
    "        return True\n",
    "    else:\n",
    "        return False"
   ]
  },
  {
   "cell_type": "code",
   "execution_count": 15,
   "metadata": {
    "collapsed": true,
    "deletable": true,
    "editable": true
   },
   "outputs": [],
   "source": [
    "############################\n",
    "# These methods take a list of conjugates and count the complexity of the normal basis.\n",
    "############################\n",
    "    \n",
    "def get_complexity_naive(k, dummy):\n",
    "    #Naive means compute \\alpha \\alpha^{q^i} = \\sum_{k=0}^{n-1} t_{ij} \\alpha_k for all i and count.\n",
    "    #We want the change of basis matrix P such that xP = b, where x is the coordinate vector in the\n",
    "    #normal basis and b is the coordinate vector in the polynomial basis. Really, of course, we want\n",
    "    #x = b inv(P)\n",
    "\n",
    "    #Construct a matrix P\n",
    "    n = len(k)\n",
    "    P = matrix( [ k[i]._vector_() for i in range(n) ] )\n",
    "    try: \n",
    "        P_inv = P.inverse()\n",
    "    except:\n",
    "        return n**2\n",
    "    #Whole matrix computation\n",
    "    cplex = 0\n",
    "    B = matrix( [ (k[0] * k[i])._vector_() for i in range(n)] )\n",
    "    T = B*P_inv\n",
    "    cplex += len(T.nonzero_positions())\n",
    "    return cplex\n",
    "\n",
    "# This method computes the multiplication table row-by-row, \n",
    "# and early-abort if the complexity of the current element \n",
    "# exceeds a threshold. \n",
    "# Experimental\n",
    "def get_complexity_early_abort(k, min_cplex):\n",
    "    n = len(k)\n",
    "    #Construct a matrix P\n",
    "    P = matrix( [ k[i]._vector_() for i in range(n) ] )\n",
    "    try:\n",
    "        P_inv = P.inverse()\n",
    "    except:\n",
    "        return n**2\n",
    "    #row-by-row computation\n",
    "    cplex = 1\n",
    "    for i in range(1,n):\n",
    "        bi = k[0] * k[i] #compute \\alpha \\alpha^{q^i}\n",
    "        row = bi._vector_() * P_inv\n",
    "        cplex += row.hamming_weight()\n",
    "        if cplex > min_cplex:\n",
    "            return cplex\n",
    "    return cplex"
   ]
  },
  {
   "cell_type": "code",
   "execution_count": 16,
   "metadata": {
    "collapsed": true,
    "deletable": true,
    "editable": true
   },
   "outputs": [],
   "source": [
    "################################\n",
    "# This section implements normality checkers: Given a set of conjugates,\n",
    "# determine if they represent a normal basis.\n",
    "################################\n",
    "\n",
    "# This method inputs a list of conjugates and a list of factors of x^n-1 and returns true if none of the factors of x^n-1 divide the auxiliary polynomial.\n",
    "def is_normal_factors(g, h, cyclotomic_factors):\n",
    "    #n = len(k)\n",
    "    #g = k[0]*x**(n-1)\n",
    "    #for i in range(1,n):\n",
    "    #    g += k[i]*x**(n-1-i)\n",
    "    for i in range(1,len(cyclotomic_factors)):\n",
    "        if cyclotomic_factors[i][0].divides(g):\n",
    "            return False\n",
    "    return True\n",
    "\n",
    "# This is a dummy function when normality need not be checked\n",
    "def no_normal_check(k, h, dummy):\n",
    "    return True\n",
    "\n",
    "# This method constructs the auxiliary polynomial as above, but directly \n",
    "# runs an extension field GCD\n",
    "def is_normal_naive(g, h, dummy):\n",
    "    #n = len(k)\n",
    "    #g = Kx(reversed(k))\n",
    "    #g = k[0]*x**(n-1)\n",
    "    #for i in range(1,n):\n",
    "    #    g += k[i]*x**(n-1-i)\n",
    "    if GCD(g, h) == 1:\n",
    "        return True\n",
    "    else:\n",
    "        return False"
   ]
  },
  {
   "cell_type": "code",
   "execution_count": 17,
   "metadata": {
    "collapsed": true,
    "deletable": true,
    "editable": true
   },
   "outputs": [],
   "source": [
    "#This code block contains the main search object.\n",
    "class Normal_Search:\n",
    "    def __init__(self, n, cplex, lex, normal, precompute, update_conjugates):\n",
    "        self.n = n #left n as a global. So it's bad form, sue me.\n",
    "        self.precompute = precompute\n",
    "        self.check_complexity = cplex\n",
    "        self.is_lex_first = lex\n",
    "        self.is_normal = normal\n",
    "        self.update_conjugates = update_conjugates\n",
    "        self.F = GF(2)\n",
    "        K.<a> = GF(2**n)\n",
    "        self.K = K\n",
    "        self.a = a\n",
    "        Kx.<x> = self.K[]\n",
    "        self.x = x\n",
    "        self.Kx = Kx\n",
    "        self.ex_n_less_one = x**n-1\n",
    "        \n",
    "    def linearized_associate(self, f):\n",
    "        flist = f.list()\n",
    "        l = 0\n",
    "        for i in range(len(flist)):\n",
    "            if flist[i] == 1:\n",
    "                l += self.x**(2**i)\n",
    "        return l\n",
    "        \n",
    "    def run(self):\n",
    "\n",
    "        #### Gray code magic; the index of the element to flip is the number of trailing zero bits of the integer i.\n",
    "        GC_iter = (i.trailing_zero_bits() for i in srange(1, 2^self.n)) # Initialize the Gray code iterator.\n",
    "\n",
    "        # Construct the basic_conjugates[i][j] = e_i^{2^j}, where e_i is the i-th standard basis element.\n",
    "        basic_conjugates, traces = self.precompute(self.n, self.a)\n",
    "        \n",
    "        # These are precomputed factors of x^n-1 and used only in is_normal_factors. \n",
    "        # These lines could and should be moved\n",
    "        cyclotomic_factors = list(self.ex_n_less_one.factor())\n",
    "        lin_list = [ self.linearized_associate(l[0]) for l in cyclotomic_factors ]\n",
    "\n",
    "        #Initialize zero-valued\n",
    "        current = self.K.zero()\n",
    "        conjugates = [self.K.zero()]*self.n\n",
    "        complexities = [0] * (self.n**2+1) # +1 to fix a bug -- if the first element doesn't pass the complexity check, check_complexity returns n^2, which is out of the list index\n",
    "        min_cplex = self.n**2\n",
    "        min_elements = [self.K.zero()]\n",
    "        my_trace = 0\n",
    "        count = 0\n",
    "        \n",
    "        #Main outer loop\n",
    "        for i in GC_iter:\n",
    "            #Get the next element and all its conjugates\n",
    "            conjugates = self.update_conjugates(conjugates, basic_conjugates, i) #Need to homogenize args\n",
    "            \n",
    "            # Adding in trace computation is obviously better, so we don't add this as an option\n",
    "            # If you are REALLY interested, you can compare the effect by commenting out the next\n",
    "            # 3 lines. \n",
    "            my_trace += traces[i]\n",
    "            if my_trace == 0: \n",
    "                continue\n",
    "\n",
    "            if self.is_lex_first(conjugates): #Check canonicity\n",
    "                g = self.Kx(conjugates[::-1]) #Create a polynomial with coefficients are conjugates in reverse order\n",
    "                if self.is_normal(g, self.ex_n_less_one, cyclotomic_factors): #Check normality\n",
    "                    cplex = self.check_complexity(conjugates, min_cplex)      #Check complexity\n",
    "                    if cplex <= min_cplex:\n",
    "                            complexities[cplex] += 1 #Keep a histogram of complexities\n",
    "                            if cplex < min_cplex:    #Allow multiple minimum complexity elements. Rare.\n",
    "                                min_cplex = cplex\n",
    "                                min_elements = [conjugates[0]]\n",
    "                            else:\n",
    "                                min_elements.append(conjugates[0])\n",
    "                    else:\n",
    "                            continue\n",
    "        print \"Minimum complexity found: %d\"%min_cplex\n",
    "        print \"Minimal polynomial of minimal complexity element: %s\"%min_elements[0].minimal_polynomial()\n",
    "        ##Uncomment this to output histogram of complexities\n",
    "        #seen_complexities = [(i, complexities[i]) for i in range(len(complexities)) if complexities[i] != 0]"
   ]
  },
  {
   "cell_type": "code",
   "execution_count": null,
   "metadata": {
    "collapsed": false,
    "deletable": true,
    "editable": true
   },
   "outputs": [],
   "source": [
    "#Below is the run method. Assign the desired parameters:\n",
    "# n                 : degree of extension\n",
    "# complexity_check  : Method of checking complexity\n",
    "# lex_first_check   : Method of checking canonical basis element\n",
    "# normality_check   : Method of checking the canonical element is normal\n",
    "# run_precompute    : Method determining which values are precomputed\n",
    "# update_conjugates : Method of determining next element and its conjugates\n",
    "\n",
    "#Settings for Algorithm 2\n",
    "complexity_check = get_complexity_naive\n",
    "lex_first_check  = is_lex_first_int_rep\n",
    "normality_check  = no_normal_check\n",
    "run_precompute   = precompute\n",
    "update_conjugates= update_conjugates_graycode\n",
    "\n",
    "#Settings for normality checking\n",
    "is_normal = [is_normal_naive, no_normal_check]\n",
    "\n",
    "#Options for complexity checking\n",
    "get_complexity = [get_complexity_naive, get_complexity_early_abort]\n",
    "\n",
    "#Options for canonicity checking\n",
    "lex_first = [is_lex_first_int_rep, is_lex_first_vector_compare]\n",
    "\n",
    "#Options for precomputation\n",
    "precomp = [precompute]\n",
    "\n",
    "\n",
    "#Here you can loop over a set of n, or sets of functions for comparative timings.\n",
    "\n",
    "# In Sage, I prefer testing in n=20, which is large enough to show differences\n",
    "# but small enough to show \n",
    "n = 24 \n",
    "\n",
    "# Set up the search, running Algorithm 2\n",
    "search = Normal_Search(n, complexity_check, lex_first_check, normality_check, pre, update_conjugates)\n",
    "# Use the %time line magic to time the search.\n",
    "%time search.run()\n",
    "# Use %prun line magic to give verbose profiling information about the program. SLOW.\n",
    "# %prun search.run()\n"
   ]
  },
  {
   "cell_type": "code",
   "execution_count": null,
   "metadata": {
    "collapsed": true
   },
   "outputs": [],
   "source": [
    "## The remainder of these code blocks are used to verify that the\n",
    "## output of our runs do indeed define normal elements and are \n",
    "## provide the stated complexities."
   ]
  },
  {
   "cell_type": "code",
   "execution_count": 55,
   "metadata": {
    "collapsed": false,
    "deletable": true,
    "editable": true
   },
   "outputs": [
    {
     "name": "stdout",
     "output_type": "stream",
     "text": [
      "x^40 + x^39 + x^37 + x^34 + x^31 + x^26 + x^24 + x^23 + x^21 + x^19 + x^18 + x^16 + x^9 + x^5 + 1\n",
      "189\n"
     ]
    }
   ],
   "source": [
    "n = 40\n",
    "farray = [7,9,13,14,15,16,18,20,22,23,24,30,31,33,35,36]\n",
    "\n",
    "F = GF(2)\n",
    "Fx = PolynomialRing(GF(2), 'x')\n",
    "modulus = 1 + Fx.gen()^3 + Fx.gen()^4 + Fx.gen()^5 + Fx.gen()^40\n",
    "K = GF(2**n, name='x', modulus = modulus)\n",
    "g = sum( [K.gen()**f for f in farray])\n",
    "congs = [g**(2**(n-1-i)) for i in range(n) ]\n",
    "\n",
    "y = var('y') \n",
    "Ky = PolynomialRing(K,y)\n",
    "\n",
    "h = Ky(0)\n",
    "for i in range(n):\n",
    "    h += Ky.gen()**i * congs[i]\n",
    "\n",
    "assert Ky.gcd(h, Ky.gen()**n - 1) == 1  ###Normality test.\n",
    "\n",
    "w = congs[0]\n",
    "print w.minimal_polynomial()\n",
    "B = matrix([ (congs[i]*congs[0])._vector_() for i in range(n) ])\n",
    "P = matrix( [ congs[i]._vector_() for i in range(n) ])\n",
    "Bpinv = B*P.inverse()\n",
    "\n",
    "print len(Bpinv.nonzero_positions())"
   ]
  },
  {
   "cell_type": "code",
   "execution_count": 54,
   "metadata": {
    "collapsed": false,
    "deletable": true,
    "editable": true
   },
   "outputs": [
    {
     "name": "stdout",
     "output_type": "stream",
     "text": [
      "x^41 + x^40 + x^38 + x^37 + x^36 + x^33 + x^32 + x^22 + x^21 + x^20 + x^17 + x^16 + x^9 + x^8 + x^6 + x^5 + x^4 + x + 1\n",
      "81\n"
     ]
    }
   ],
   "source": [
    "n = 41\n",
    "farray = [0,5,6,8,9,11,13,14,15,17,18,19,22,24,25,27,28,29,31,34,35,37]\n",
    "\n",
    "F = GF(2)\n",
    "Fx = PolynomialRing(GF(2), 'x')\n",
    "modulus = 1 + Fx.gen()^3 + Fx.gen()^(41)\n",
    "K = GF(2**n, name='x', modulus = modulus)\n",
    "g = sum( [K.gen()**f for f in farray])\n",
    "congs = [g**(2**(n-1-i)) for i in range(n) ]\n",
    "\n",
    "y = var('y')\n",
    "Ky = PolynomialRing(K,y)\n",
    "\n",
    "h = Ky(0)\n",
    "for i in range(n):\n",
    "    h += Ky.gen()**i * congs[i]\n",
    "    \n",
    "assert Ky.gcd(h, Ky.gen()**n - 1) == 1  ###Normality test.\n",
    "\n",
    "w = congs[0]\n",
    "print w.minimal_polynomial()\n",
    "B = matrix([ (congs[i]*congs[0])._vector_() for i in range(n) ])\n",
    "P = matrix( [ congs[i]._vector_() for i in range(n) ])\n",
    "Bpinv = B*P.inverse()\n",
    "\n",
    "print len(Bpinv.nonzero_positions())"
   ]
  },
  {
   "cell_type": "code",
   "execution_count": 57,
   "metadata": {
    "collapsed": false,
    "deletable": true,
    "editable": true
   },
   "outputs": [
    {
     "name": "stdout",
     "output_type": "stream",
     "text": [
      "x^42 + x^41 + x^40 + x^38 + x^36 + x^35 + x^31 + x^30 + x^26 + x^23 + x^22 + x^20 + x^19 + x^18 + x^15 + x^12 + x^3 + x^2 + 1\n",
      "135\n"
     ]
    }
   ],
   "source": [
    "n = 42\n",
    "farray = [6,10,12,13,16,17,19,20,22,25,30,33,35,36,37,38,39,40]\n",
    "\n",
    "F = GF(2)\n",
    "Fx = PolynomialRing(GF(2), 'x')\n",
    "modulus = 1 + Fx.gen() + Fx.gen()^2 + Fx.gen()^5 + Fx.gen()^(42)\n",
    "K = GF(2**n, name='x', modulus = modulus)\n",
    "g = sum( [K.gen()**f for f in farray])\n",
    "congs = [g**(2**(n-1-i)) for i in range(n) ]\n",
    "\n",
    "y = var('y')\n",
    "Ky = PolynomialRing(K,y)\n",
    "\n",
    "h = Ky(0)\n",
    "for i in range(n):\n",
    "    h += Ky.gen()**i * congs[i]\n",
    "    \n",
    "assert Ky.gcd(h, Ky.gen()**n - 1) == 1  ###Normality test.\n",
    "\n",
    "w = congs[0]\n",
    "print w.minimal_polynomial()\n",
    "B = matrix([ (congs[i]*congs[0])._vector_() for i in range(n) ])\n",
    "P = matrix( [ congs[i]._vector_() for i in range(n) ])\n",
    "Bpinv = B*P.inverse()\n",
    "\n",
    "print len(Bpinv.nonzero_positions())"
   ]
  },
  {
   "cell_type": "code",
   "execution_count": 58,
   "metadata": {
    "collapsed": false,
    "deletable": true,
    "editable": true
   },
   "outputs": [
    {
     "name": "stdout",
     "output_type": "stream",
     "text": [
      "x^43 + x^42 + x^40 + x^37 + x^35 + x^33 + x^31 + x^30 + x^29 + x^28 + x^27 + x^25 + x^24 + x^22 + x^20 + x^18 + x^14 + x^12 + x^11 + x^9 + x^8 + x^7 + x^5 + x^3 + 1\n",
      "165\n"
     ]
    }
   ],
   "source": [
    "n = 43\n",
    "farray = [6,7,9,10,12,18,20,21,22,24,26,28,31,32,33,34,37]\n",
    "\n",
    "F = GF(2)\n",
    "Fx = PolynomialRing(GF(2), 'x')\n",
    "modulus = 1 + Fx.gen()^3 + Fx.gen()^4 + Fx.gen()^6 + Fx.gen()^(43)\n",
    "K = GF(2**n, name='x', modulus = modulus)\n",
    "g = sum( [K.gen()**f for f in farray])\n",
    "congs = [g**(2**(n-1-i)) for i in range(n) ]\n",
    "\n",
    "y = var('y')\n",
    "Ky = PolynomialRing(K,y)\n",
    "\n",
    "h = Ky(0)\n",
    "for i in range(n):\n",
    "    h += Ky.gen()**i * congs[i]\n",
    "    \n",
    "assert Ky.gcd(h, Ky.gen()**n - 1) == 1  ###Normality test.\n",
    "\n",
    "w = congs[0]\n",
    "print w.minimal_polynomial()\n",
    "B = matrix([ (congs[i]*congs[0])._vector_() for i in range(n) ])\n",
    "P = matrix( [ congs[i]._vector_() for i in range(n) ])\n",
    "Bpinv = B*P.inverse()\n",
    "\n",
    "print len(Bpinv.nonzero_positions())"
   ]
  },
  {
   "cell_type": "code",
   "execution_count": 59,
   "metadata": {
    "collapsed": false,
    "deletable": true,
    "editable": true
   },
   "outputs": [
    {
     "name": "stdout",
     "output_type": "stream",
     "text": [
      "x^44 + x^43 + x^42 + x^40 + x^35 + x^33 + x^30 + x^28 + x^27 + x^26 + x^25 + x^24 + x^23 + x^21 + x^19 + x^18 + x^17 + x^12 + x^11 + x^10 + x^9 + x^5 + x^3 + x^2 + 1\n",
      "147\n"
     ]
    }
   ],
   "source": [
    "n = 44\n",
    "farray = [6,9,11,13,16,17,21,22,24,29,31,33,34,35,39,40,42]\n",
    "\n",
    "F = GF(2)\n",
    "Fx = PolynomialRing(GF(2), 'x')\n",
    "modulus = 1 + Fx.gen()^5 + Fx.gen()^(44)\n",
    "K = GF(2**n, name='x', modulus = modulus)\n",
    "g = sum( [K.gen()**f for f in farray])\n",
    "congs = [g**(2**(n-1-i)) for i in range(n) ]\n",
    "\n",
    "y = var('y')\n",
    "Ky = PolynomialRing(K,y)\n",
    "\n",
    "h = Ky(0)\n",
    "for i in range(n):\n",
    "    h += Ky.gen()**i * congs[i]\n",
    "    \n",
    "assert Ky.gcd(h, Ky.gen()**n - 1) == 1  ###Normality test.\n",
    "\n",
    "w = congs[0]\n",
    "print w.minimal_polynomial()\n",
    "B = matrix([ (congs[i]*congs[0])._vector_() for i in range(n) ])\n",
    "P = matrix( [ congs[i]._vector_() for i in range(n) ])\n",
    "Bpinv = B*P.inverse()\n",
    "\n",
    "print len(Bpinv.nonzero_positions())"
   ]
  },
  {
   "cell_type": "code",
   "execution_count": 62,
   "metadata": {
    "collapsed": false,
    "deletable": true,
    "editable": true
   },
   "outputs": [
    {
     "name": "stdout",
     "output_type": "stream",
     "text": [
      "x^45 + x^44 + x^42 + x^41 + x^40 + x^39 + x^38 + x^37 + x^33 + x^30 + x^23 + x^20 + x^18 + x^16 + x^14 + x^13 + x^12 + x^11 + x^9 + x^6 + x^2 + x + 1\n",
      "153\n"
     ]
    }
   ],
   "source": [
    "n = 45\n",
    "farray = [9,12,13,14,17,19,21,24,26,27,29,31,34,36,37,38,40,41,44]\n",
    "\n",
    "F = GF(2)\n",
    "Fx = PolynomialRing(GF(2), 'x')\n",
    "modulus = 1 + Fx.gen() + Fx.gen()^3 + Fx.gen()^4 + Fx.gen()^(45)\n",
    "K = GF(2**n, name='x', modulus = modulus)\n",
    "g = sum( [K.gen()**f for f in farray])\n",
    "congs = [g**(2**(n-1-i)) for i in range(n) ]\n",
    "\n",
    "y = var('y')\n",
    "Ky = PolynomialRing(K,y)\n",
    "\n",
    "h = Ky(0)\n",
    "for i in range(n):\n",
    "    h += Ky.gen()**i * congs[i]\n",
    "    \n",
    "assert Ky.gcd(h, Ky.gen()**n - 1) == 1  ###Normality test.\n",
    "\n",
    "w = congs[0]\n",
    "print w.minimal_polynomial()\n",
    "B = matrix([ (congs[i]*congs[0])._vector_() for i in range(n) ])\n",
    "P = matrix( [ congs[i]._vector_() for i in range(n) ])\n",
    "Bpinv = B*P.inverse()\n",
    "\n",
    "print len(Bpinv.nonzero_positions())"
   ]
  },
  {
   "cell_type": "code",
   "execution_count": null,
   "metadata": {
    "collapsed": true,
    "deletable": true,
    "editable": true
   },
   "outputs": [],
   "source": [
    "n = 46\n",
    "farray = [0,1,2,8,12,17,18,19,22,25,26,30,32,36,38,40,41,42,43,44,45]\n",
    "\n",
    "F = GF(2)\n",
    "Fx = PolynomialRing(GF(2), 'x')\n",
    "modulus = 1 + Fx.gen() + Fx.gen()^(46)\n",
    "K = GF(2**n, name='x', modulus = modulus)\n",
    "g = sum( [K.gen()**f for f in farray])\n",
    "congs = [g**(2**(n-1-i)) for i in range(n) ]\n",
    "\n",
    "y = var('y')\n",
    "Ky = PolynomialRing(K,y)\n",
    "\n",
    "h = Ky(0)\n",
    "for i in range(n):\n",
    "    h += Ky.gen()**i * congs[i]\n",
    "    \n",
    "assert Ky.gcd(h, Ky.gen()**n - 1) == 1  ###Normality test.\n",
    "\n",
    "w = congs[0]\n",
    "print w.minimal_polynomial()\n",
    "B = matrix([ (congs[i]*congs[0])._vector_() for i in range(n) ])\n",
    "P = matrix( [ congs[i]._vector_() for i in range(n) ])\n",
    "Bpinv = B*P.inverse()\n",
    "\n",
    "print len(Bpinv.nonzero_positions())"
   ]
  },
  {
   "cell_type": "code",
   "execution_count": null,
   "metadata": {
    "collapsed": true
   },
   "outputs": [],
   "source": [
    "## The following codeblock appears in the final submission and verifies that\n",
    "## the provided minimal polynomial defines the a normal basis of the stated\n",
    "## complexity"
   ]
  },
  {
   "cell_type": "code",
   "execution_count": 68,
   "metadata": {
    "collapsed": false,
    "deletable": true,
    "editable": true
   },
   "outputs": [
    {
     "name": "stdout",
     "output_type": "stream",
     "text": [
      "x^45 + x^44 + x^42 + x^41 + x^40 + x^39 + x^38 + x^37 + x^33 + x^30 + x^23 + x^20 + x^18 + x^16 + x^14 + x^13 + x^12 + x^11 + x^9 + x^6 + x^2 + x + 1\n",
      "153\n"
     ]
    }
   ],
   "source": [
    "minpoly45 = w.minimal_polynomial()\n",
    "print minpoly45\n",
    "F = GF(2)\n",
    "Fx = PolynomialRing(GF(2), 'x')\n",
    "modulus = 1 + Fx.gen() + Fx.gen()^3 + Fx.gen()^4 + Fx.gen()^(45) #The NTL default modulus for n=45\n",
    "K = GF(2**n, name='x', modulus=modulus) #GF(2^n) = GF(2)[x]/(modulus)\n",
    "congs = minpoly45.roots(K, multiplicities=False) #The roots of minpoly45 are a set of conjugates\n",
    "B = matrix([ (congs[i]*congs[0])._vector_() for i in range(n) ]) #Construct the matrix B_{cong[0]}\n",
    "P = matrix( [ congs[i]._vector_() for i in range(n) ]) #Construct the matrix P_{\\cong[0]}\n",
    "Bpinv = B*P.inverse() #Construct BP^{-1} \n",
    "\n",
    "print len(Bpinv.nonzero_positions()) #The complexity of the basis is the number of nonzero positions in the matrix"
   ]
  },
  {
   "cell_type": "code",
   "execution_count": null,
   "metadata": {
    "collapsed": true,
    "deletable": true,
    "editable": true
   },
   "outputs": [],
   "source": []
  }
 ],
 "metadata": {
  "kernelspec": {
   "display_name": "SageMath 7.6",
   "language": "",
   "name": "sagemath"
  },
  "language_info": {
   "codemirror_mode": {
    "name": "ipython",
    "version": 2
   },
   "file_extension": ".py",
   "mimetype": "text/x-python",
   "name": "python",
   "nbconvert_exporter": "python",
   "pygments_lexer": "ipython2",
   "version": "2.7.14"
  }
 },
 "nbformat": 4,
 "nbformat_minor": 2
}
